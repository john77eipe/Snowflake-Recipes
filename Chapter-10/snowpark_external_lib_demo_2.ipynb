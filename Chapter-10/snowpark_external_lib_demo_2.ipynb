{
 "cells": [
  {
   "cell_type": "code",
   "execution_count": 31,
   "metadata": {},
   "outputs": [],
   "source": [
    "from snowflake.snowpark import Session\n",
    "from snowflake.snowpark.functions import sproc\n",
    "from snowflake.snowpark.dataframe_reader import *\n",
    "from snowflake.snowpark.functions import *\n",
    "from snowflake.snowpark.window import *\n",
    "from snowflake.snowpark.types import StringType, StructType, StructField"
   ]
  },
  {
   "cell_type": "code",
   "execution_count": 32,
   "metadata": {},
   "outputs": [],
   "source": [
    "connection_parameters = {\n",
    "    \"account\": \"\",\n",
    "    \"user\": \"\",\n",
    "    \"password\": \"\",\n",
    "    \"warehouse\": \"\", # optional\n",
    "    \"database\":\"COMMONS\",\n",
    "    \"schema\":\"UTILS\"\n",
    "}  \n",
    "session = Session.builder.configs(connection_parameters).create()  "
   ]
  },
  {
   "cell_type": "markdown",
   "metadata": {},
   "source": [
    "#### Use custom_package_usage_config to do the magic\n",
    "\n",
    "custom_package_usage_config helps to get or set configuration parameters related to usage of custom Python packages in Snowflake.\n",
    "\n",
    "If enabled, pure Python packages that are not available in Snowflake will be installed locally via pip and made available as an import (see add_import for more information on imports). You can speed up this process by mentioning a remote stage path as cache_path where unsupported pure Python packages will be persisted. To use a specific version of pip, you can set the environment variable PIP_PATH to point to your pip executable. \n",
    "To use custom Python packages which are not purely Python, specify the force_push configuration parameter (*note that using non-pure Python packages is not recommended!*).\n",
    "\n",
    "This feature is **experimental** as of now and not yet ready for production."
   ]
  },
  {
   "cell_type": "code",
   "execution_count": 33,
   "metadata": {},
   "outputs": [
    {
     "name": "stderr",
     "output_type": "stream",
     "text": [
      "The following packages are not available in Snowflake: ['amazon.ion==0.12.0'].\n",
      "If you are adding package(s) unavailable in Snowflake, it is highly recommended that you include the 'cache_path' configuration parameter in order to reduce latency.\n"
     ]
    }
   ],
   "source": [
    "session.custom_package_usage_config = {\"enabled\": True, \"force_push\": True}\n",
    "session.add_packages(\"amazon.ion==0.12.0\",\"snowflake-snowpark-python\")"
   ]
  },
  {
   "cell_type": "markdown",
   "metadata": {},
   "source": [
    "#### Generate sample ion files from the TPCH CUSTOMER data\n",
    "The below lines of code uses the snowflake connection to read from the sample TPCH_SF1 dataset provided and uses the customer table to generate 5 files corresponding to 5 rows of the data.\n",
    "The files are stored in your local working directory in a folder `./customer_binary_data`. Create this folder or uncomment the code that creates the directory"
   ]
  },
  {
   "cell_type": "code",
   "execution_count": 44,
   "metadata": {},
   "outputs": [
    {
     "name": "stdout",
     "output_type": "stream",
     "text": [
      "<class 'list'>\n",
      "[\n",
      "    {\n",
      "        \"C_NATIONKEY\": 14,\n",
      "        \"C_MKTSEGMENT\": \"HOUSEHOLD\",\n",
      "        \"C_ACCTBAL\": 9957.56\n",
      "    },\n",
      "    {\n",
      "        \"C_NATIONKEY\": 15,\n",
      "        \"C_MKTSEGMENT\": \"BUILDING\",\n",
      "        \"C_ACCTBAL\": 742.46\n",
      "    },\n",
      "    {\n",
      "        \"C_NATIONKEY\": 16,\n",
      "        \"C_MKTSEGMENT\": \"BUILDING\",\n",
      "        \"C_ACCTBAL\": 2526.92\n",
      "    },\n",
      "    {\n",
      "        \"C_NATIONKEY\": 10,\n",
      "        \"C_MKTSEGMENT\": \"AUTOMOBILE\",\n",
      "        \"C_ACCTBAL\": 7975.22\n",
      "    },\n",
      "    {\n",
      "        \"C_NATIONKEY\": 12,\n",
      "        \"C_MKTSEGMENT\": \"MACHINERY\",\n",
      "        \"C_ACCTBAL\": 2504.74\n",
      "    }\n",
      "]\n",
      "{'C_NATIONKEY': 14, 'C_MKTSEGMENT': IonPySymbol(text='HOUSEHOLD', sid=None, location=None), 'C_ACCTBAL': Decimal('9957.56')}\n",
      "{'C_NATIONKEY': 15, 'C_MKTSEGMENT': IonPySymbol(text='BUILDING', sid=None, location=None), 'C_ACCTBAL': Decimal('742.46')}\n",
      "{'C_NATIONKEY': 16, 'C_MKTSEGMENT': IonPySymbol(text='BUILDING', sid=None, location=None), 'C_ACCTBAL': Decimal('2526.92')}\n",
      "{'C_NATIONKEY': 10, 'C_MKTSEGMENT': IonPySymbol(text='AUTOMOBILE', sid=None, location=None), 'C_ACCTBAL': Decimal('7975.22')}\n",
      "{'C_NATIONKEY': 12, 'C_MKTSEGMENT': IonPySymbol(text='MACHINERY', sid=None, location=None), 'C_ACCTBAL': Decimal('2504.74')}\n"
     ]
    }
   ],
   "source": [
    "import amazon.ion.simpleion as ion\n",
    "import os\n",
    "\n",
    "from json import loads, dumps\n",
    "df = session.table('SNOWFLAKE_SAMPLE_DATA.TPCH_SF1.CUSTOMER').select('C_NATIONKEY','C_MKTSEGMENT', 'C_ACCTBAL').limit(5).to_pandas()\n",
    "result = df.to_json(orient=\"records\")\n",
    "jsonvals = loads(result)\n",
    "print(type(jsonvals))\n",
    "print(dumps(jsonvals, indent=4))\n",
    "\n",
    "# Create the directory if it does not exist\n",
    "#os.makedirs('./customer_binary_data')\n",
    "\n",
    "for i in range(len(jsonvals)):\n",
    "    ionval = ion.loads(str(jsonvals[i]))\n",
    "    print(ionval)\n",
    "    with open(f\"./customer_binary_data/customer{i}.ion\", \"wb\") as f:\n",
    "        f.write(ion.dumps(ionval))\n",
    "        f.close()"
   ]
  },
  {
   "cell_type": "markdown",
   "metadata": {},
   "source": [
    "#### Create a stage to store your the customer ion data"
   ]
  },
  {
   "cell_type": "code",
   "execution_count": 13,
   "metadata": {},
   "outputs": [
    {
     "data": {
      "text/plain": [
       "[Row(status='Stage area CUSTOMER_BINARY_DATA successfully created.')]"
      ]
     },
     "execution_count": 13,
     "metadata": {},
     "output_type": "execute_result"
    }
   ],
   "source": [
    "query = \"create or replace stage commons.utils.customer_binary_data\" +\\\n",
    "        \" directory = (enable = true)\" +\\\n",
    "        \" copy_options = (on_error='skip_file')\"\n",
    "        \n",
    "session.sql(query).collect()\n"
   ]
  },
  {
   "cell_type": "markdown",
   "metadata": {},
   "source": [
    "Upload the local files into the stage"
   ]
  },
  {
   "cell_type": "code",
   "execution_count": 14,
   "metadata": {},
   "outputs": [
    {
     "data": {
      "text/plain": [
       "'UPLOADED'"
      ]
     },
     "execution_count": 14,
     "metadata": {},
     "output_type": "execute_result"
    }
   ],
   "source": [
    "put_result = session.file.put(\"./customer_binary_data/*\", \"@customer_binary_data/\",auto_compress=True, overwrite=True)\n",
    "put_result[0].status"
   ]
  },
  {
   "cell_type": "markdown",
   "metadata": {},
   "source": [
    "#### A quick local experiment on reading ion files\n",
    "This is a code snippet to test on how to read the ion files locally. You may skip this."
   ]
  },
  {
   "cell_type": "code",
   "execution_count": 21,
   "metadata": {},
   "outputs": [
    {
     "data": {
      "text/plain": [
       "[Row(C_NATIONKEY=14, C_MKTSEGMENT='HOUSEHOLD', C_ACCTBAL=9958)]"
      ]
     },
     "execution_count": 21,
     "metadata": {},
     "output_type": "execute_result"
    }
   ],
   "source": [
    "import amazon.ion.simpleion as ion\n",
    "import pandas as pd\n",
    "from snowflake.snowpark.types import IntegerType, StringType, StructField\n",
    "def read_ion(file_name):\n",
    "    with open(file_name, \"rb\") as file_handle:\n",
    "        return ion.load(file_handle)\n",
    "ionval = read_ion('customer_binary_data/customer0.ion')\n",
    "rows = []\n",
    "rows.append( (ionval['C_NATIONKEY'], ionval['C_MKTSEGMENT'].text, ionval['C_ACCTBAL']))\n",
    "schema = StructType([\n",
    "    StructField(\"C_NATIONKEY\", IntegerType()), \n",
    "    StructField(\"C_MKTSEGMENT\", StringType()),\n",
    "    StructField(\"C_ACCTBAL\", IntegerType()) \n",
    "    ])\n",
    "session.createDataFrame(rows, schema).collect()\n"
   ]
  },
  {
   "cell_type": "markdown",
   "metadata": {},
   "source": [
    "#### Snowflake snowpark code to read from the stage and parse the ion files\n",
    "\n",
    "The below code reads from the stage file by file and is written into a table"
   ]
  },
  {
   "cell_type": "code",
   "execution_count": 23,
   "metadata": {},
   "outputs": [
    {
     "name": "stdout",
     "output_type": "stream",
     "text": [
      "<_io.BytesIO object at 0x16a4114e0>\n",
      "<_io.BytesIO object at 0x172349710>\n",
      "<_io.BytesIO object at 0x157e71030>\n",
      "<_io.BytesIO object at 0x172310590>\n",
      "<_io.BytesIO object at 0x157e71030>\n"
     ]
    }
   ],
   "source": [
    "import io\n",
    "# List all files in the stage\n",
    "files = session.sql('LIST @customer_binary_data').collect()\n",
    "\n",
    "rows = []\n",
    "schema = StructType([\n",
    "    StructField(\"C_NATIONKEY\", IntegerType()), \n",
    "    StructField(\"C_MKTSEGMENT\", StringType()),\n",
    "    StructField(\"C_ACCTBAL\", IntegerType()) \n",
    "    ])\n",
    "\n",
    "# # Iterate over the files and read them\n",
    "for file in files:\n",
    "    # Get the stream for the file\n",
    "    stream = session.file.get_stream(file['name'], decompress=True)\n",
    "\n",
    "    # Read the stream\n",
    "    fd  = io.BytesIO(stream.read())\n",
    "    print(fd)\n",
    "    ionval = ion.load(fd)\n",
    "    rows.append( (ionval['C_NATIONKEY'], ionval['C_MKTSEGMENT'].text, ionval['C_ACCTBAL']))\n",
    "\n",
    "df = session.createDataFrame(rows, schema)\n",
    "df.write.save_as_table(\"CUSTOMER_RESULT\", mode=\"overwrite\", table_type=\"transient\")\n"
   ]
  },
  {
   "cell_type": "code",
   "execution_count": 24,
   "metadata": {},
   "outputs": [
    {
     "data": {
      "text/plain": [
       "[Row(C_NATIONKEY=14, C_MKTSEGMENT='HOUSEHOLD', C_ACCTBAL=9958),\n",
       " Row(C_NATIONKEY=15, C_MKTSEGMENT='BUILDING', C_ACCTBAL=742),\n",
       " Row(C_NATIONKEY=16, C_MKTSEGMENT='BUILDING', C_ACCTBAL=2527),\n",
       " Row(C_NATIONKEY=10, C_MKTSEGMENT='AUTOMOBILE', C_ACCTBAL=7975),\n",
       " Row(C_NATIONKEY=12, C_MKTSEGMENT='MACHINERY', C_ACCTBAL=2505)]"
      ]
     },
     "execution_count": 24,
     "metadata": {},
     "output_type": "execute_result"
    }
   ],
   "source": [
    "session.table(\"CUSTOMER_RESULT\").collect()"
   ]
  },
  {
   "cell_type": "markdown",
   "metadata": {},
   "source": [
    "#### Snowflake python stored procedure to read and store ion data in table\n",
    "\n",
    "This is same as above code but is wrapped in a python stored procedure."
   ]
  },
  {
   "cell_type": "code",
   "execution_count": 37,
   "metadata": {},
   "outputs": [],
   "source": [
    "@sproc(name=\"test_ion\", is_permanent=False, replace=True)\n",
    "def test_ion(session: Session) -> bool:\n",
    "    \n",
    "    import amazon.ion.simpleion as ion\n",
    "    import io\n",
    "    # List all files in the stage\n",
    "    files = session.sql('LIST @customer_binary_data').collect()\n",
    "\n",
    "    rows = []\n",
    "    schema = StructType([\n",
    "        StructField(\"C_NATIONKEY\", IntegerType()), \n",
    "        StructField(\"C_MKTSEGMENT\", StringType()),\n",
    "        StructField(\"C_ACCTBAL\", IntegerType()) \n",
    "        ])\n",
    "\n",
    "    # # Iterate over the files and read them\n",
    "    for file in files:\n",
    "        # Get the stream for the file\n",
    "        stream = session.file.get_stream(\"@\"+file['name'], decompress=True)\n",
    "\n",
    "        # Read the stream\n",
    "        fd  = io.BytesIO(stream.read())\n",
    "        print(fd)\n",
    "        ionval = ion.load(fd)\n",
    "        rows.append( (ionval['C_NATIONKEY'], ionval['C_MKTSEGMENT'].text, ionval['C_ACCTBAL']))\n",
    "\n",
    "    df = session.createDataFrame(rows, schema)\n",
    "    df.write.save_as_table(\"CUSTOMER_RESULT\", mode=\"overwrite\", table_type=\"transient\")\n",
    "\n",
    "    return True"
   ]
  },
  {
   "cell_type": "code",
   "execution_count": 38,
   "metadata": {},
   "outputs": [
    {
     "data": {
      "text/plain": [
       "True"
      ]
     },
     "execution_count": 38,
     "metadata": {},
     "output_type": "execute_result"
    }
   ],
   "source": [
    "test_ion()"
   ]
  },
  {
   "cell_type": "code",
   "execution_count": 39,
   "metadata": {},
   "outputs": [
    {
     "data": {
      "text/plain": [
       "[Row(C_NATIONKEY=14, C_MKTSEGMENT='HOUSEHOLD', C_ACCTBAL=9958),\n",
       " Row(C_NATIONKEY=15, C_MKTSEGMENT='BUILDING', C_ACCTBAL=742),\n",
       " Row(C_NATIONKEY=16, C_MKTSEGMENT='BUILDING', C_ACCTBAL=2527),\n",
       " Row(C_NATIONKEY=10, C_MKTSEGMENT='AUTOMOBILE', C_ACCTBAL=7975),\n",
       " Row(C_NATIONKEY=12, C_MKTSEGMENT='MACHINERY', C_ACCTBAL=2505)]"
      ]
     },
     "execution_count": 39,
     "metadata": {},
     "output_type": "execute_result"
    }
   ],
   "source": [
    "session.table(\"CUSTOMER_RESULT\").collect()"
   ]
  },
  {
   "cell_type": "code",
   "execution_count": 2,
   "metadata": {},
   "outputs": [],
   "source": [
    "session.close()"
   ]
  },
  {
   "cell_type": "code",
   "execution_count": null,
   "metadata": {},
   "outputs": [],
   "source": []
  }
 ],
 "metadata": {
  "kernelspec": {
   "display_name": "snowrecipes",
   "language": "python",
   "name": "python3"
  },
  "language_info": {
   "codemirror_mode": {
    "name": "ipython",
    "version": 3
   },
   "file_extension": ".py",
   "mimetype": "text/x-python",
   "name": "python",
   "nbconvert_exporter": "python",
   "pygments_lexer": "ipython3",
   "version": "3.11.8"
  }
 },
 "nbformat": 4,
 "nbformat_minor": 2
}
