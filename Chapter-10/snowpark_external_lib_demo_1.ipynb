{
 "cells": [
  {
   "cell_type": "code",
   "execution_count": 27,
   "metadata": {},
   "outputs": [],
   "source": [
    "from snowflake.snowpark import Session\n",
    "from snowflake.snowpark.functions import sproc, udf\n",
    "from snowflake.snowpark.dataframe_reader import *\n",
    "from snowflake.snowpark.functions import *\n",
    "from snowflake.snowpark.window import *\n",
    "from snowflake.snowpark.types import StringType, StructType, StructField\n",
    "import pandas as pd"
   ]
  },
  {
   "cell_type": "code",
   "execution_count": 28,
   "metadata": {},
   "outputs": [],
   "source": [
    "connection_parameters = {\n",
    "    \"account\": \"\",\n",
    "    \"user\": \"\",\n",
    "    \"password\": \"\",\n",
    "    \"warehouse\": \"\", # optional\n",
    "    \"database\":\"COMMONS\",\n",
    "    \"schema\":\"UTILS\"\n",
    "}  \n",
    "session = Session.builder.configs(connection_parameters).create()  "
   ]
  },
  {
   "cell_type": "markdown",
   "metadata": {},
   "source": [
    "### Create a stage to store your python script"
   ]
  },
  {
   "cell_type": "code",
   "execution_count": 29,
   "metadata": {},
   "outputs": [
    {
     "data": {
      "text/plain": [
       "[Row(status='Stage area EXTERNAL_PY_SCRIPTS successfully created.')]"
      ]
     },
     "execution_count": 29,
     "metadata": {},
     "output_type": "execute_result"
    }
   ],
   "source": [
    "query = \"create or replace stage commons.utils.external_py_scripts\" +\\\n",
    "        \" directory = (enable = true)\" +\\\n",
    "        \" copy_options = (on_error='skip_file')\"\n",
    "        \n",
    "session.sql(query).collect()\n"
   ]
  },
  {
   "cell_type": "markdown",
   "metadata": {},
   "source": [
    "#### Import your local python script into stage"
   ]
  },
  {
   "cell_type": "code",
   "execution_count": 30,
   "metadata": {},
   "outputs": [
    {
     "data": {
      "text/plain": [
       "'UPLOADED'"
      ]
     },
     "execution_count": 30,
     "metadata": {},
     "output_type": "execute_result"
    }
   ],
   "source": [
    "put_result = session.file.put(\"./string_utils.py\", \"@external_py_scripts/\",auto_compress=False, overwrite=True)\n",
    "put_result[0].status"
   ]
  },
  {
   "cell_type": "markdown",
   "metadata": {},
   "source": [
    "#### Add your stages to your session\n",
    "\n",
    "This step is needed to get access to the stages and it's files from your current session which will be used for creating and executing python procedures and udfs"
   ]
  },
  {
   "cell_type": "code",
   "execution_count": 59,
   "metadata": {},
   "outputs": [],
   "source": [
    "session.add_import(\"@external_py_scripts/string_utils.py\")"
   ]
  },
  {
   "cell_type": "markdown",
   "metadata": {},
   "source": [
    "#### Create python stored procedure to utilize the external script and return the count of vowels"
   ]
  },
  {
   "cell_type": "code",
   "execution_count": 32,
   "metadata": {},
   "outputs": [],
   "source": [
    "\n",
    "@sproc(name=\"test_py_imports\", is_permanent=False)\n",
    "def test_py_imports(session: Session, strval: str) -> str:\n",
    "\n",
    "    from string_utils import vowel_count\n",
    "\n",
    "    return vowel_count(strval)"
   ]
  },
  {
   "cell_type": "markdown",
   "metadata": {},
   "source": [
    "#### Test the python stored procedure"
   ]
  },
  {
   "cell_type": "code",
   "execution_count": 33,
   "metadata": {},
   "outputs": [
    {
     "data": {
      "text/plain": [
       "'10'"
      ]
     },
     "execution_count": 33,
     "metadata": {},
     "output_type": "execute_result"
    }
   ],
   "source": [
    "test_py_imports(\"this is a test sentence in english\")"
   ]
  },
  {
   "cell_type": "markdown",
   "metadata": {},
   "source": [
    "Next let us test the same custom script from a Python UDF"
   ]
  },
  {
   "cell_type": "code",
   "execution_count": 58,
   "metadata": {},
   "outputs": [
    {
     "name": "stdout",
     "output_type": "stream",
     "text": [
      "------------------------------------------------------\n",
      "|\"C_COMMENT\"                                         |\n",
      "------------------------------------------------------\n",
      "|l theodolites boost slyly at the platelets: per...  |\n",
      "| beans. fluffily regular packages                   |\n",
      "|fully pending deposits sleep quickly. blithely ...  |\n",
      "| furiously above the ironic packages. slyly bra...  |\n",
      "|express instructions sleep quickly. ironic brai...  |\n",
      "------------------------------------------------------\n",
      "\n"
     ]
    }
   ],
   "source": [
    "# let's use this table to test udf\n",
    "df = session.table('SNOWFLAKE_SAMPLE_DATA.TPCH_SF1.CUSTOMER').select('C_COMMENT').limit(5)\n",
    "df.show()"
   ]
  },
  {
   "cell_type": "markdown",
   "metadata": {},
   "source": [
    "#### Create python stored procedure to utilize the external script and return the count of vowels"
   ]
  },
  {
   "cell_type": "code",
   "execution_count": 52,
   "metadata": {},
   "outputs": [],
   "source": [
    "@udf(name=\"get_vowel_count\", is_permanent=False, replace=True)\n",
    "def get_vowel_count(strval: str) -> str:\n",
    "    from string_utils import vowel_count\n",
    "    return vowel_count(strval)"
   ]
  },
  {
   "cell_type": "code",
   "execution_count": 53,
   "metadata": {},
   "outputs": [],
   "source": [
    "df = session.sql(\"select C_COMMENT, get_vowel_count(C_COMMENT) as VOWEL_COUNT from SNOWFLAKE_SAMPLE_DATA.TPCH_SF1.CUSTOMER limit 10\")           "
   ]
  },
  {
   "cell_type": "code",
   "execution_count": 54,
   "metadata": {},
   "outputs": [
    {
     "name": "stdout",
     "output_type": "stream",
     "text": [
      "----------------------------------------------------------------------\n",
      "|\"C_COMMENT\"                                         |\"VOWEL_COUNT\"  |\n",
      "----------------------------------------------------------------------\n",
      "|l theodolites boost slyly at the platelets: per...  |24             |\n",
      "| beans. fluffily regular packages                   |10             |\n",
      "|fully pending deposits sleep quickly. blithely ...  |32             |\n",
      "| furiously above the ironic packages. slyly bra...  |36             |\n",
      "|express instructions sleep quickly. ironic brai...  |24             |\n",
      "| carefully quickly even theodolites. boldly         |13             |\n",
      "|bold packages. regular sheaves mold. blit           |12             |\n",
      "|nal courts. carefully regular Tiresias lose qui...  |29             |\n",
      "|efully even dependencies haggle furiously along...  |30             |\n",
      "|fter the quickly silent requests. slyly special...  |29             |\n",
      "----------------------------------------------------------------------\n",
      "\n"
     ]
    }
   ],
   "source": [
    "df.show()"
   ]
  },
  {
   "cell_type": "code",
   "execution_count": 60,
   "metadata": {},
   "outputs": [],
   "source": [
    "session.close()"
   ]
  }
 ],
 "metadata": {
  "kernelspec": {
   "display_name": "snowrecipes",
   "language": "python",
   "name": "python3"
  },
  "language_info": {
   "codemirror_mode": {
    "name": "ipython",
    "version": 3
   },
   "file_extension": ".py",
   "mimetype": "text/x-python",
   "name": "python",
   "nbconvert_exporter": "python",
   "pygments_lexer": "ipython3",
   "version": "3.11.8"
  }
 },
 "nbformat": 4,
 "nbformat_minor": 2
}
